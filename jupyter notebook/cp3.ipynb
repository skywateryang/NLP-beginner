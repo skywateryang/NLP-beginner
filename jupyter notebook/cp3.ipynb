{
 "cells": [
  {
   "cell_type": "code",
   "execution_count": 18,
   "id": "ed767a35",
   "metadata": {},
   "outputs": [],
   "source": [
    "import warnings\n",
    "warnings.filterwarnings(\"ignore\", category=DeprecationWarning)"
   ]
  },
  {
   "cell_type": "code",
   "execution_count": 52,
   "id": "1c71bc59",
   "metadata": {},
   "outputs": [],
   "source": [
    "import pandas as pd\n",
    "import numpy as np\n",
    "from sklearn.feature_extraction.text import TfidfVectorizer\n",
    "from sklearn.decomposition import LatentDirichletAllocation\n",
    "\n",
    "# Load Dataset\n",
    "data = pd.read_csv('../data/abcnews-date-text.csv', error_bad_lines=False, nrows=10000);\n",
    "documents_list= data['headline_text'].tolist()"
   ]
  },
  {
   "cell_type": "code",
   "execution_count": 21,
   "id": "901f7ebf",
   "metadata": {},
   "outputs": [],
   "source": [
    "# Vectorize document using TF-IDF\n",
    "tfidf = TfidfVectorizer(lowercase=True,\n",
    "                        stop_words='english',\n",
    "                        ngram_range = (1,1),\n",
    "                       min_df=10)\n",
    "\n",
    "# Fit and Transform the documents\n",
    "train_data = tfidf.fit_transform(documents_list)   "
   ]
  },
  {
   "cell_type": "code",
   "execution_count": 22,
   "id": "bd4f5ceb",
   "metadata": {},
   "outputs": [],
   "source": [
    "# Define the number of topics or components\n",
    "num_components=5\n",
    "\n",
    "# Create LDA object\n",
    "model=LatentDirichletAllocation(n_components=num_components)\n",
    "\n",
    "# Fit and Transform SVD model on data\n",
    "lda_matrix = model.fit_transform(train_data)\n",
    "\n",
    "# Get Components \n",
    "lda_components=model.components_"
   ]
  },
  {
   "cell_type": "code",
   "execution_count": 23,
   "id": "c50a192c",
   "metadata": {},
   "outputs": [
    {
     "name": "stdout",
     "output_type": "stream",
     "text": [
      "Topic 0:  ['war', 'plan', 'iraq', 'anti', 'baghdad', 'protest', 'iraqi']\n",
      "Topic 1:  ['water', 'new', 'govt', 'hospital', 'wa', 'concerns', 'car']\n",
      "Topic 2:  ['world', 'cup', 'council', 'group', 'clash', 'funds', 'denies']\n",
      "Topic 3:  ['iraq', 'says', 'troops', 'war', 'killed', 'saddam', 'baghdad']\n",
      "Topic 4:  ['man', 'police', 'charged', 'death', 'court', 'face', 'missing']\n"
     ]
    }
   ],
   "source": [
    "# Print the topics with their terms\n",
    "terms = tfidf.get_feature_names()\n",
    "\n",
    "for index, component in enumerate(lda_components):\n",
    "    zipped = zip(terms, component)\n",
    "    top_terms_key=sorted(zipped, key = lambda t: t[1], reverse=True)[:7]\n",
    "    top_terms_list=list(dict(top_terms_key).keys())\n",
    "    print(\"Topic \"+str(index)+\": \",top_terms_list)"
   ]
  },
  {
   "cell_type": "code",
   "execution_count": 26,
   "id": "20c86764",
   "metadata": {},
   "outputs": [],
   "source": [
    "import pyLDAvis\n",
    "import pyLDAvis.sklearn"
   ]
  },
  {
   "cell_type": "code",
   "execution_count": 49,
   "id": "42ebad48",
   "metadata": {},
   "outputs": [],
   "source": [
    "ldavis= pyLDAvis.sklearn.prepare(model, train_data, tfidf)"
   ]
  },
  {
   "cell_type": "code",
   "execution_count": 50,
   "id": "5fb49398",
   "metadata": {},
   "outputs": [],
   "source": [
    "pyLDAvis.save_html(ldavis, 'ldavis.html')"
   ]
  },
  {
   "cell_type": "code",
   "execution_count": null,
   "id": "b9dc541b",
   "metadata": {},
   "outputs": [],
   "source": []
  },
  {
   "cell_type": "code",
   "execution_count": 66,
   "id": "dd4d563c",
   "metadata": {},
   "outputs": [],
   "source": [
    "columns = [f'P(topic {i+1})' for i in range(len(model.components_))]\n",
    "df_result = pd.DataFrame(lda_matrix, columns=columns)"
   ]
  },
  {
   "cell_type": "code",
   "execution_count": 67,
   "id": "2795b67e",
   "metadata": {},
   "outputs": [
    {
     "data": {
      "text/html": [
       "<div>\n",
       "<style scoped>\n",
       "    .dataframe tbody tr th:only-of-type {\n",
       "        vertical-align: middle;\n",
       "    }\n",
       "\n",
       "    .dataframe tbody tr th {\n",
       "        vertical-align: top;\n",
       "    }\n",
       "\n",
       "    .dataframe thead th {\n",
       "        text-align: right;\n",
       "    }\n",
       "</style>\n",
       "<table border=\"1\" class=\"dataframe\">\n",
       "  <thead>\n",
       "    <tr style=\"text-align: right;\">\n",
       "      <th></th>\n",
       "      <th>P(topic 1)</th>\n",
       "      <th>P(topic 2)</th>\n",
       "      <th>P(topic 3)</th>\n",
       "      <th>P(topic 4)</th>\n",
       "      <th>P(topic 5)</th>\n",
       "    </tr>\n",
       "  </thead>\n",
       "  <tbody>\n",
       "    <tr>\n",
       "      <th>0</th>\n",
       "      <td>0.598614</td>\n",
       "      <td>0.100001</td>\n",
       "      <td>0.101293</td>\n",
       "      <td>0.100091</td>\n",
       "      <td>0.100001</td>\n",
       "    </tr>\n",
       "    <tr>\n",
       "      <th>1</th>\n",
       "      <td>0.596681</td>\n",
       "      <td>0.102181</td>\n",
       "      <td>0.101136</td>\n",
       "      <td>0.100001</td>\n",
       "      <td>0.100001</td>\n",
       "    </tr>\n",
       "    <tr>\n",
       "      <th>2</th>\n",
       "      <td>0.083036</td>\n",
       "      <td>0.083305</td>\n",
       "      <td>0.083030</td>\n",
       "      <td>0.667600</td>\n",
       "      <td>0.083030</td>\n",
       "    </tr>\n",
       "    <tr>\n",
       "      <th>3</th>\n",
       "      <td>0.328767</td>\n",
       "      <td>0.056390</td>\n",
       "      <td>0.058485</td>\n",
       "      <td>0.055470</td>\n",
       "      <td>0.500888</td>\n",
       "    </tr>\n",
       "    <tr>\n",
       "      <th>4</th>\n",
       "      <td>0.446968</td>\n",
       "      <td>0.067111</td>\n",
       "      <td>0.067682</td>\n",
       "      <td>0.071626</td>\n",
       "      <td>0.346613</td>\n",
       "    </tr>\n",
       "  </tbody>\n",
       "</table>\n",
       "</div>"
      ],
      "text/plain": [
       "   P(topic 1)  P(topic 2)  P(topic 3)  P(topic 4)  P(topic 5)\n",
       "0    0.598614    0.100001    0.101293    0.100091    0.100001\n",
       "1    0.596681    0.102181    0.101136    0.100001    0.100001\n",
       "2    0.083036    0.083305    0.083030    0.667600    0.083030\n",
       "3    0.328767    0.056390    0.058485    0.055470    0.500888\n",
       "4    0.446968    0.067111    0.067682    0.071626    0.346613"
      ]
     },
     "execution_count": 67,
     "metadata": {},
     "output_type": "execute_result"
    }
   ],
   "source": [
    "df_result.head()"
   ]
  },
  {
   "cell_type": "code",
   "execution_count": null,
   "id": "b4d6c209",
   "metadata": {},
   "outputs": [],
   "source": []
  }
 ],
 "metadata": {
  "kernelspec": {
   "display_name": "Python 3",
   "language": "python",
   "name": "python3"
  },
  "language_info": {
   "codemirror_mode": {
    "name": "ipython",
    "version": 3
   },
   "file_extension": ".py",
   "mimetype": "text/x-python",
   "name": "python",
   "nbconvert_exporter": "python",
   "pygments_lexer": "ipython3",
   "version": "3.9.4"
  },
  "toc": {
   "base_numbering": 1,
   "nav_menu": {},
   "number_sections": false,
   "sideBar": true,
   "skip_h1_title": false,
   "title_cell": "Table of Contents",
   "title_sidebar": "Contents",
   "toc_cell": false,
   "toc_position": {},
   "toc_section_display": true,
   "toc_window_display": false
  }
 },
 "nbformat": 4,
 "nbformat_minor": 5
}
